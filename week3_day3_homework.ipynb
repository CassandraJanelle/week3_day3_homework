{
 "cells": [
  {
   "cell_type": "markdown",
   "metadata": {},
   "source": [
    "# Object Oriented Programming 2 - examples and APIs\n"
   ]
  },
  {
   "cell_type": "markdown",
   "metadata": {},
   "source": [
    "## Tasks Today:\n",
    "\n",
    "   \n",
    "\n",
    "1) <b>Shopping Cart Example</b> <br>\n",
    "2) <b>Requests and the pokemon API </b> <br>\n",
    " "
   ]
  },
  {
   "cell_type": "markdown",
   "metadata": {},
   "source": [
    "# Goal \n",
    "### build a shopping cart program with prices and quantities using objects and a dictionary"
   ]
  },
  {
   "cell_type": "code",
   "execution_count": null,
   "metadata": {},
   "outputs": [
    {
     "name": "stdout",
     "output_type": "stream",
     "text": [
      "\"\"\n",
      "        Welcome to Aldi, we're the best and have great peanut butter cups! Try our strawberry La Vie\n",
      "        Options:\n",
      "        Welcome to Aldi\n",
      "        Options:\n",
      "        [1] Show Current Cart\n",
      "        [2] Add Item\n",
      "        [3] Remove Item\n",
      "        [4] Quit\n",
      "        \n"
     ]
    }
   ],
   "source": [
    "from IPython.display import clear_output as clear\n",
    "# Create a class called cart that retains items and has methods to add, remove, and show\n",
    "\n",
    "class Cart():    \n",
    "    def __init__(self):\n",
    "        self.items = {} # {item: quanity}\n",
    "            \n",
    "    # add items to your cart\n",
    "    def add(self):\n",
    "        clear()\n",
    "        new_item = input(\"What do you want to get? \")\n",
    "        quantity = int(input(f\"How many {new_item}s do you want? (insert number) \"))\n",
    "        if new_item not in self.items.keys():\n",
    "            self.items[new_item] = quantity\n",
    "        else:\n",
    "            self.items[new_item] += quantity\n",
    "        print(f\"{quantity} {new_item}s are in the cart\")\n",
    "        \n",
    "    #remove items from your cart\n",
    "    def remove(self):\n",
    "        clear()\n",
    "        discard = input(\"What would you like to discard?\")\n",
    "        quantity = int(input(\"How many do you want to discard? \"))\n",
    "        try:\n",
    "            self.items[discard] -= quantity\n",
    "            if self.items[discard] <= 0:\n",
    "                del self.items[discard]\n",
    "            print(f'{quantity} {discard}s have been removed.')\n",
    "        except:\n",
    "            print(f'{discard} was not in your cart.')\n",
    "        self.show()\n",
    "        \n",
    "    # show items in your cart   \n",
    "    def show(self):\n",
    "        print(\"Your cart has the following items: \")\n",
    "        for item, quantity in self.items.items():\n",
    "            print(f\"{item} | quantity: {quantity}\")\n",
    "        \n",
    "    \n",
    "    # checkout items from your cart\n",
    "    def checkout(self):\n",
    "        clear()\n",
    "        if not self.items:\n",
    "            print(\"Please buy something before checking out, cheap as... butt\")\n",
    "        else:\n",
    "            print\n",
    "    \n",
    "    #control flow - run the overall program\n",
    "class Main:\n",
    "    def showInstructions():\n",
    "        print(\"\"\"\"\"\n",
    "        Welcome to Aldi, we're the best and have great peanut butter cups! Try our strawberry La Vie\n",
    "        Options:\n",
    "        Welcome to Aldi\n",
    "        Options:\n",
    "        [1] Show Current Cart\n",
    "        [2] Add Item\n",
    "        [3] Remove Item\n",
    "        [4] Quit\n",
    "        \"\"\")\n",
    "   \n",
    "    def run():\n",
    "        Main.showInstructions()\n",
    "        my_cart = Cart()\n",
    "        \n",
    "        while True:\n",
    "            choice = input(\"What would you like to do? \")\n",
    "            if choice == '1':\n",
    "                if my_cart.items == {}:\n",
    "                    print('Your cart is empty... start shopping')\n",
    "                else:\n",
    "                    my_cart.show()\n",
    "            elif choice == '2':\n",
    "                my_cart.add()\n",
    "                \n",
    "            elif choice == '3':\n",
    "                if my_cart.items == {}:\n",
    "                    print('your cart is empty... add something before you remove it')\n",
    "                else:\n",
    "                    my_cart.remove()\n",
    "                 \n",
    "            elif choice == '4':\n",
    "                my_cart.checkout()\n",
    "                break\n",
    "                \n",
    "            elif choice == '5':\n",
    "                Main.showInstructions()\n",
    "            \n",
    "            else:\n",
    "                print(\"invalid input... please try again.\")\n",
    "                    \n",
    "                    \n",
    "# my_cart2 = Cart()\n",
    "# my_Cart3 = Cart()\n",
    "\n",
    "#my_cart.items\n",
    "\n",
    "Main.run()"
   ]
  },
  {
   "cell_type": "markdown",
   "metadata": {},
   "source": [
    "# working with APis"
   ]
  },
  {
   "cell_type": "markdown",
   "metadata": {},
   "source": [
    "<p> What exactly is an API? <br> <br>\n",
    "API is the acronym for Application Programming Interface, which is a software intermediary that allows two applications to talk to each other. Each time you use an app like Facebook, send an instant message, or check the weather on your phone, you're using an API. </p>"
   ]
  },
  {
   "cell_type": "markdown",
   "metadata": {},
   "source": [
    "### The Poke API  allows you to retreive a pokemon's information from PokeAPI https://pokeapi.co/\n",
    "\n"
   ]
  },
  {
   "cell_type": "code",
   "execution_count": null,
   "metadata": {},
   "outputs": [],
   "source": [
    "# making an API call\n",
    "import requests\n",
    "\n",
    "r = requests.get('https://pokeapi.co/api/v2/pokemon/pikachu')\n",
    "if r.status_code == 200:\n",
    "    data = r.json()\n",
    "print(data.keys())"
   ]
  },
  {
   "cell_type": "markdown",
   "metadata": {},
   "source": [
    "### Display a Pokemon's name, weight, abilities, and types"
   ]
  },
  {
   "cell_type": "code",
   "execution_count": null,
   "metadata": {},
   "outputs": [],
   "source": [
    "# get the name\n",
    "name - data['name']\n",
    "print(name)"
   ]
  },
  {
   "cell_type": "code",
   "execution_count": null,
   "metadata": {},
   "outputs": [],
   "source": [
    "# get types\n",
    "types = [pokemon['type']['name'] for pokemon in data['types']]\n",
    "# my_types = []\n",
    "# for type_ in data\n",
    "#  my_types.append(type_]['type'][name])\n",
    "# print(my_types)\n",
    "print(types)"
   ]
  },
  {
   "cell_type": "code",
   "execution_count": null,
   "metadata": {},
   "outputs": [],
   "source": [
    "# get weight\n",
    "weight - data['weight']\n",
    "print(weight)"
   ]
  },
  {
   "cell_type": "code",
   "execution_count": null,
   "metadata": {},
   "outputs": [],
   "source": [
    "# get abilities\n",
    "abilities = [ability['ability']['name'] for ability in data['']"
   ]
  },
  {
   "cell_type": "code",
   "execution_count": null,
   "metadata": {},
   "outputs": [],
   "source": [
    "# Create a structure for a single pokemon\n",
    "pokemon_x = {\n",
    "    \n",
    "'name': '',\n",
    "'abilities': [],\n",
    "'weight': '',\n",
    "'types': []\n",
    "}\n"
   ]
  },
  {
   "cell_type": "code",
   "execution_count": null,
   "metadata": {},
   "outputs": [],
   "source": [
    "pikachu = {\n",
    "    \"name\": name,\n",
    "    'abilities': abilities,\n",
    "    'weight': weight,\n",
    "    'types' : types\n",
    "}\n",
    "pikachu"
   ]
  },
  {
   "cell_type": "markdown",
   "metadata": {},
   "source": [
    "#### Create a function to Pull in your own Pokemon's data "
   ]
  },
  {
   "cell_type": "code",
   "execution_count": null,
   "metadata": {},
   "outputs": [],
   "source": [
    "import requests\n",
    "party = ['heracross', 'vaporeon','flygon','charizard','pidgeot','crobat']\n",
    "def poke_api_call(pokemon):\n",
    "    req = requests.get(f'https://pokeapi.co/api/v2/pokemon/{pokemon}')\n",
    "    if req.status_code == 200:\n",
    "        data = req.json()\n",
    "    \n",
    "            weight = data['weight']\n",
    "    \n",
    "        poke = {\n",
    "            \"name\": name,\n",
    "            'abilities': abilities,\n",
    "            'weight': weight,\n",
    "            'types' : types\n",
    "        }\n",
    "        \n",
    "        return poke\n",
    "\n",
    "# Place all 6 of your pokemon on the object below, each pokemon should have at least as much info as Pikachu did.\n",
    "my_six_pokemon = {}\n",
    "party = ['heracross', 'vaporeon','flygon','charizard','pidgeot','crobat']\n",
    "for pokemon in party:\n",
    "    poke_stats = poke_api_call(pokemon)\n",
    "    my_six_pokemon[poke_stats['name'].title()] = poke_stats\n",
    "    \n",
    "print(my_six_pokemon)"
   ]
  },
  {
   "cell_type": "markdown",
   "metadata": {},
   "source": [
    "Choose your pokemon"
   ]
  },
  {
   "cell_type": "code",
   "execution_count": null,
   "metadata": {},
   "outputs": [],
   "source": [
    "from random import randint\n",
    "# Random number generated for each pokemon id\n",
    "random_team = [randint(1,898) for i in range(6)]\n",
    "\n",
    "your_team = ['electabuzz', 'haunter','tyranitar','blaziken','marowak','dragonair']\n"
   ]
  },
  {
   "cell_type": "markdown",
   "metadata": {},
   "source": [
    "#### Use your function to create a dictionary of your favorite 6 pokemon"
   ]
  },
  {
   "cell_type": "code",
   "execution_count": null,
   "metadata": {},
   "outputs": [],
   "source": [
    "# Place all 6 of your pokemon on the object below, each pokemon should have at least as much info as Pikachu did.\n",
    "my_six_pokemon = {}\n",
    " \n",
    "# see above ^^"
   ]
  },
  {
   "cell_type": "markdown",
   "metadata": {},
   "source": [
    "## Lets create a class called 'Pokemon' and create our pokemon as instances"
   ]
  },
  {
   "cell_type": "code",
   "execution_count": 5,
   "metadata": {},
   "outputs": [],
   "source": [
    "import requests\n",
    "class Pokemon():\n",
    "    def __init__(self, name):\n",
    "        self.name = name\n",
    "        self.types = []\n",
    "        self.abilities = []\n",
    "        self.weight = None\n",
    "        self.poke_api_call()\n",
    "        \n",
    "    def poke_api_call(self):\n",
    "        r = requests.get(f\"https://pokeapi.co/api/v2/pokemon/{self.name.lower()}\")\n",
    "        if r.status_code == 200:\n",
    "            pokemon = r.json()\n",
    "        else:\n",
    "            print(f\"Please check pokemon name spelling and try again: {r.status_code}\")\n",
    "            return\n",
    "       \n",
    "        self.name = pokemon['name']\n",
    "        self.types = [pokemon['type']['name'] for pokemon in pokemon['types']]\n",
    "        self.abilities = [pokemon['ability']['name'] for pokemon in pokemon['abilities']]\n",
    "        self.weight = pokemon['weight']\n",
    "        print(f\"{self.name}'s data has been updated!\")\n",
    "    def __repr__(self):\n",
    "        return f\"You caught a {self.name}!!\"\n"
   ]
  },
  {
   "cell_type": "markdown",
   "metadata": {},
   "source": [
    "### Let's Catch some Pokemon"
   ]
  },
  {
   "cell_type": "code",
   "execution_count": 6,
   "metadata": {},
   "outputs": [
    {
     "name": "stdout",
     "output_type": "stream",
     "text": [
      "charmander's data has been updated!\n",
      "You caught a charmander!!\n",
      "<class '__main__.Pokemon'>\n",
      "You caught a charmander!!\n"
     ]
    }
   ],
   "source": [
    "charmander = Pokemon(\"charmander\")\n",
    "\n",
    "print(charmander)\n",
    "\n",
    "print(type(charmander))\n",
    "\n",
    "print(charmander)"
   ]
  },
  {
   "cell_type": "code",
   "execution_count": 7,
   "metadata": {},
   "outputs": [
    {
     "name": "stdout",
     "output_type": "stream",
     "text": [
      "heracross's data has been updated!\n",
      "vaporeon's data has been updated!\n",
      "flygon's data has been updated!\n",
      "charizard's data has been updated!\n",
      "pidgeot's data has been updated!\n",
      "crobat's data has been updated!\n"
     ]
    },
    {
     "data": {
      "text/plain": [
       "{'heracross': {'name': 'heracross',\n",
       "  'types': ['bug', 'fighting'],\n",
       "  'abilities': ['swarm', 'guts', 'moxie'],\n",
       "  'weight': 540},\n",
       " 'vaporeon': {'name': 'vaporeon',\n",
       "  'types': ['water'],\n",
       "  'abilities': ['water-absorb', 'hydration'],\n",
       "  'weight': 290},\n",
       " 'flygon': {'name': 'flygon',\n",
       "  'types': ['ground', 'dragon'],\n",
       "  'abilities': ['levitate'],\n",
       "  'weight': 820},\n",
       " 'charizard': {'name': 'charizard',\n",
       "  'types': ['fire', 'flying'],\n",
       "  'abilities': ['blaze', 'solar-power'],\n",
       "  'weight': 905},\n",
       " 'pidgeot': {'name': 'pidgeot',\n",
       "  'types': ['normal', 'flying'],\n",
       "  'abilities': ['keen-eye', 'tangled-feet', 'big-pecks'],\n",
       "  'weight': 395},\n",
       " 'crobat': {'name': 'crobat',\n",
       "  'types': ['poison', 'flying'],\n",
       "  'abilities': ['inner-focus', 'infiltrator'],\n",
       "  'weight': 750}}"
      ]
     },
     "execution_count": 7,
     "metadata": {},
     "output_type": "execute_result"
    }
   ],
   "source": [
    "party = ['heracross', 'vaporeon','flygon','charizard','pidgeot','crobat']\n",
    "pokedex = {}\n",
    "for name in party:\n",
    "    new = Pokemon(name)\n",
    "    pokedex[new.name] = new.__dict__\n",
    "    \n",
    "pokedex"
   ]
  },
  {
   "cell_type": "markdown",
   "metadata": {},
   "source": [
    "## Exercise 1:"
   ]
  },
  {
   "cell_type": "markdown",
   "metadata": {},
   "source": [
    "### Create a Method prints an image of your pokemon\n",
    "\n",
    "<p>HINT: You may need another attribute as well to store your image url within. </p>"
   ]
  },
  {
   "cell_type": "code",
   "execution_count": 8,
   "metadata": {},
   "outputs": [],
   "source": [
    "# Display an image in Jupyter notebook\n",
    "from IPython.display import Image\n",
    "\n",
    "# display(Image( 'https://i.redd.it/45n4mhusa8l41.jpg', width = 300))\n"
   ]
  },
  {
   "cell_type": "code",
   "execution_count": null,
   "metadata": {},
   "outputs": [],
   "source": [
    "# recreate your pokemon class here\n",
    "import requests\n",
    "from IPython.display import Image\n",
    "\n",
    "class Pokemon(Evolver):\n",
    "    def __init__(self, name):\n",
    "        self.name = name\n",
    "        self.types = []\n",
    "        self.abilities = []\n",
    "        self.weight = None\n",
    "        # new image attribute\n",
    "        self.image = None\n",
    "        self.poke_api_call()\n",
    "        \n",
    "    def poke_api_call(self):\n",
    "        r = requests.get(f\"https://pokeapi.co/api/v2/pokemon/{self.name.lower()}\")\n",
    "        if r.status_code == 200:\n",
    "            pokemon = r.json()\n",
    "        else:\n",
    "            print(f\"Please check pokemon name spelling and try again: {r.status_code}\")\n",
    "            return\n",
    "        \n",
    "        self.name = pokemon['name']\n",
    "        self.types = [pokemon['type']['name'] for pokemon in pokemon['types']]\n",
    "        self.abilities = [pokemon['ability']['name'] for pokemon in pokemon['abilities']]\n",
    "        self.weight = pokemon['weight']\n",
    "        # new image details\n",
    "        self.image = pokemon['sprites']['front_shiny']\n",
    "        print(f\"{self.name}'s data has been updated!\")\n",
    "        \n",
    "    # display our image with a method\n",
    "    def display(self):\n",
    "        display(Image(url = self.image))\n",
    "        \n",
    "    def __repr__(self):\n",
    "        return f\"You caught a {self.name}!!\"\n",
    "  "
   ]
  },
  {
   "cell_type": "code",
   "execution_count": 24,
   "metadata": {},
   "outputs": [
    {
     "name": "stdout",
     "output_type": "stream",
     "text": [
      "jigglypuff's data has been updated!\n"
     ]
    },
    {
     "data": {
      "text/html": [
       "<img src=\"https://raw.githubusercontent.com/PokeAPI/sprites/master/sprites/pokemon/shiny/39.png\"/>"
      ],
      "text/plain": [
       "<IPython.core.display.Image object>"
      ]
     },
     "metadata": {},
     "output_type": "display_data"
    }
   ],
   "source": [
    "jigglypuff = Pokemon(\"jigglypuff\")\n",
    "\n",
    "jigglypuff.display()"
   ]
  },
  {
   "cell_type": "code",
   "execution_count": null,
   "metadata": {},
   "outputs": [],
   "source": [
    "# Calling our new method\n",
    "jigglypuff.display()"
   ]
  },
  {
   "cell_type": "markdown",
   "metadata": {},
   "source": [
    "## Exercise 2:"
   ]
  },
  {
   "cell_type": "markdown",
   "metadata": {},
   "source": [
    "### Create a Method that evolves your Pokemon\n",
    "If your pokemon can't evolve any further print a message that says \"\\<name of pokemon> can't evolve.\""
   ]
  },
  {
   "cell_type": "code",
   "execution_count": 28,
   "metadata": {},
   "outputs": [],
   "source": [
    "from time import sleep\n",
    "class Evolver:\n",
    "    def evolve(self):\n",
    "        # API call for pokemon's species\n",
    "        r = requests.get(f\"https://pokeapi.co/api/v2/pokemon-species/{self.name}/\")\n",
    "        if r.status_code == 200:\n",
    "            pokemon_species = r.json()\n",
    "        else:\n",
    "            print(f\"Ran into an issue, please check your pokemon's name: {r.status_code}\")\n",
    "            return\n",
    "        r = requests.get(pokemon_species['evolution_chain']['url'])\n",
    "        if r.status_code == 200:\n",
    "            ev_chain = r.json()\n",
    "            ev_chain = ev_chain['chain']\n",
    "\n",
    "        else:\n",
    "            print(f\"Ran into an issue, please check your pokemon's name: {r.status_code}\")\n",
    "            return\n",
    "\n",
    "\n",
    "        base_name = ev_chain['species']['name']\n",
    "        evolution = ev_chain['evolves_to'][0]\n",
    "        evolution_name = evolution['species']['name']\n",
    "\n",
    "        #Evolution 1\n",
    "        if base_name ==self.name:\n",
    "            pass\n",
    "        #Evolution 2\n",
    "        elif evolution_name == self.name:\n",
    "            evolution_name = evolution['evolves_to'][0]['name']\n",
    "\n",
    "        #Evolution\n",
    "        else:\n",
    "            print(f\"You cant evolve your {self.name}anymore...\")\n",
    "            return\n",
    "\n",
    "        print('.........')\n",
    "        sleep(1)\n",
    "        print(f\"Your {self.name} is evolving!?!?!\")\n",
    "        self.display()\n",
    "        sleep(1)\n",
    "        print('...........')\n",
    "        self.name = evolution_name\n",
    "        self.poke_api_call()\n",
    "        self.display()"
   ]
  },
  {
   "cell_type": "markdown",
   "metadata": {},
   "source": [
    "Now let's evolve a few"
   ]
  },
  {
   "cell_type": "code",
   "execution_count": 30,
   "metadata": {
    "scrolled": true
   },
   "outputs": [
    {
     "name": "stdout",
     "output_type": "stream",
     "text": [
      "jigglypuff's data has been updated!\n"
     ]
    }
   ],
   "source": [
    "jigglypuff = Pokemon(\"jigglypuff\")\n",
    "\n"
   ]
  },
  {
   "cell_type": "code",
   "execution_count": null,
   "metadata": {},
   "outputs": [],
   "source": [
    "jigglypuff.evolve()"
   ]
  },
  {
   "cell_type": "code",
   "execution_count": null,
   "metadata": {},
   "outputs": [],
   "source": []
  },
  {
   "cell_type": "markdown",
   "metadata": {},
   "source": [
    "#  Final Exercise: <br> <br>Create a Move_Tutor Class that will allow the Pokemon Class to inherit a move list.\n",
    "<br>\n",
    "<p>for an added bonus you can make sure that if a pokemon has 4 moves the user can choose one of them to replace with a new move. </p>"
   ]
  },
  {
   "cell_type": "code",
   "execution_count": null,
   "metadata": {},
   "outputs": [],
   "source": [
    "class Move_Tutor:\n",
    "    def __init__(self):\n",
    "        self.move_list = []"
   ]
  },
  {
   "cell_type": "code",
   "execution_count": 8,
   "metadata": {},
   "outputs": [
    {
     "ename": "IndentationError",
     "evalue": "unindent does not match any outer indentation level (<tokenize>, line 7)",
     "output_type": "error",
     "traceback": [
      "\u001b[1;36m  File \u001b[1;32m<tokenize>:7\u001b[1;36m\u001b[0m\n\u001b[1;33m    elif self.p_type == \"Ghost\":\u001b[0m\n\u001b[1;37m    ^\u001b[0m\n\u001b[1;31mIndentationError\u001b[0m\u001b[1;31m:\u001b[0m unindent does not match any outer indentation level\n"
     ]
    }
   ],
   "source": [
    "class Move_Tutor:\n",
    "    def __init__(self):\n",
    "        self.move_list = []\n",
    "    def opponent(self, p_type):\n",
    "if self.ptype == \"Grass\":\n",
    "        return (\"Fire\", \"Water\")\n",
    "    elif self.p_type == \"Ghost\":\n",
    "        return (\"Dark\",\"Psychic\")\n",
    "    elif self.p_type == \"Fire\":\n",
    "        return (\"Water\",\"Grass\")\n",
    "    else :\n",
    "        return (\"Electric\",\"Fighting\")"
   ]
  },
  {
   "cell_type": "code",
   "execution_count": 5,
   "metadata": {},
   "outputs": [
    {
     "ename": "NameError",
     "evalue": "name 'pikachu' is not defined",
     "output_type": "error",
     "traceback": [
      "\u001b[1;31m---------------------------------------------------------------------------\u001b[0m",
      "\u001b[1;31mNameError\u001b[0m                                 Traceback (most recent call last)",
      "Cell \u001b[1;32mIn [5], line 1\u001b[0m\n\u001b[1;32m----> 1\u001b[0m \u001b[43mpikachu\u001b[49m\u001b[38;5;241m.\u001b[39mteach_move()\n",
      "\u001b[1;31mNameError\u001b[0m: name 'pikachu' is not defined"
     ]
    }
   ],
   "source": [
    "pikachu.teach_move()\n"
   ]
  },
  {
   "cell_type": "code",
   "execution_count": 6,
   "metadata": {},
   "outputs": [
    {
     "ename": "NameError",
     "evalue": "name 'pikachu' is not defined",
     "output_type": "error",
     "traceback": [
      "\u001b[1;31m---------------------------------------------------------------------------\u001b[0m",
      "\u001b[1;31mNameError\u001b[0m                                 Traceback (most recent call last)",
      "Cell \u001b[1;32mIn [6], line 1\u001b[0m\n\u001b[1;32m----> 1\u001b[0m \u001b[43mpikachu\u001b[49m\u001b[38;5;241m.\u001b[39mshow_moves()\n",
      "\u001b[1;31mNameError\u001b[0m: name 'pikachu' is not defined"
     ]
    }
   ],
   "source": [
    "pikachu.show_moves()"
   ]
  },
  {
   "cell_type": "code",
   "execution_count": null,
   "metadata": {},
   "outputs": [],
   "source": []
  },
  {
   "cell_type": "code",
   "execution_count": null,
   "metadata": {},
   "outputs": [],
   "source": []
  }
 ],
 "metadata": {
  "kernelspec": {
   "display_name": "Python 3 (ipykernel)",
   "language": "python",
   "name": "python3"
  },
  "language_info": {
   "codemirror_mode": {
    "name": "ipython",
    "version": 3
   },
   "file_extension": ".py",
   "mimetype": "text/x-python",
   "name": "python",
   "nbconvert_exporter": "python",
   "pygments_lexer": "ipython3",
   "version": "3.9.12"
  }
 },
 "nbformat": 4,
 "nbformat_minor": 4
}
